{
 "cells": [
  {
   "cell_type": "markdown",
   "id": "060f9148",
   "metadata": {},
   "source": [
    "## Smartphone Price Prediction"
   ]
  },
  {
   "cell_type": "code",
   "execution_count": 15,
   "id": "94d6c1a5",
   "metadata": {},
   "outputs": [
    {
     "name": "stdout",
     "output_type": "stream",
     "text": [
      "Collecting torchNote: you may need to restart the kernel to use updated packages.\n"
     ]
    },
    {
     "name": "stderr",
     "output_type": "stream",
     "text": [
      "ERROR: pip's dependency resolver does not currently take into account all the packages that are installed. This behaviour is the source of the following dependency conflicts.\n",
      "s3fs 2023.4.0 requires fsspec==2023.4.0, but you have fsspec 2024.3.1 which is incompatible.\n"
     ]
    },
    {
     "name": "stdout",
     "output_type": "stream",
     "text": [
      "\n",
      "  Obtaining dependency information for torch from https://files.pythonhosted.org/packages/2a/b7/a3cf5fd40334b9785cc83ee0c96b50603026eb3aa70210a33729018e7029/torch-2.3.0-cp311-cp311-win_amd64.whl.metadata\n",
      "  Using cached torch-2.3.0-cp311-cp311-win_amd64.whl.metadata (26 kB)\n",
      "Collecting filelock (from torch)\n",
      "  Obtaining dependency information for filelock from https://files.pythonhosted.org/packages/41/24/0b023b6537dfc9bae2c779353998e3e99ac7dfff4222fc6126650e93c3f3/filelock-3.14.0-py3-none-any.whl.metadata\n",
      "  Using cached filelock-3.14.0-py3-none-any.whl.metadata (2.8 kB)\n",
      "Collecting typing-extensions>=4.8.0 (from torch)\n",
      "  Obtaining dependency information for typing-extensions>=4.8.0 from https://files.pythonhosted.org/packages/01/f3/936e209267d6ef7510322191003885de524fc48d1b43269810cd589ceaf5/typing_extensions-4.11.0-py3-none-any.whl.metadata\n",
      "  Using cached typing_extensions-4.11.0-py3-none-any.whl.metadata (3.0 kB)\n",
      "Collecting sympy (from torch)\n",
      "  Obtaining dependency information for sympy from https://files.pythonhosted.org/packages/d2/05/e6600db80270777c4a64238a98d442f0fd07cc8915be2a1c16da7f2b9e74/sympy-1.12-py3-none-any.whl.metadata\n",
      "  Using cached sympy-1.12-py3-none-any.whl.metadata (12 kB)\n",
      "Collecting networkx (from torch)\n",
      "  Obtaining dependency information for networkx from https://files.pythonhosted.org/packages/38/e9/5f72929373e1a0e8d142a130f3f97e6ff920070f87f91c4e13e40e0fba5a/networkx-3.3-py3-none-any.whl.metadata\n",
      "  Using cached networkx-3.3-py3-none-any.whl.metadata (5.1 kB)\n",
      "Collecting jinja2 (from torch)\n",
      "  Obtaining dependency information for jinja2 from https://files.pythonhosted.org/packages/30/6d/6de6be2d02603ab56e72997708809e8a5b0fbfee080735109b40a3564843/Jinja2-3.1.3-py3-none-any.whl.metadata\n",
      "  Using cached Jinja2-3.1.3-py3-none-any.whl.metadata (3.3 kB)\n",
      "Collecting fsspec (from torch)\n",
      "  Obtaining dependency information for fsspec from https://files.pythonhosted.org/packages/93/6d/66d48b03460768f523da62a57a7e14e5e95fdf339d79e996ce3cecda2cdb/fsspec-2024.3.1-py3-none-any.whl.metadata\n",
      "  Using cached fsspec-2024.3.1-py3-none-any.whl.metadata (6.8 kB)\n",
      "Collecting mkl<=2021.4.0,>=2021.1.1 (from torch)\n",
      "  Obtaining dependency information for mkl<=2021.4.0,>=2021.1.1 from https://files.pythonhosted.org/packages/fe/1c/5f6dbf18e8b73e0a5472466f0ea8d48ce9efae39bd2ff38cebf8dce61259/mkl-2021.4.0-py2.py3-none-win_amd64.whl.metadata\n",
      "  Using cached mkl-2021.4.0-py2.py3-none-win_amd64.whl.metadata (1.4 kB)\n",
      "Collecting intel-openmp==2021.* (from mkl<=2021.4.0,>=2021.1.1->torch)\n",
      "  Obtaining dependency information for intel-openmp==2021.* from https://files.pythonhosted.org/packages/6f/21/b590c0cc3888b24f2ac9898c41d852d7454a1695fbad34bee85dba6dc408/intel_openmp-2021.4.0-py2.py3-none-win_amd64.whl.metadata\n",
      "  Using cached intel_openmp-2021.4.0-py2.py3-none-win_amd64.whl.metadata (1.2 kB)\n",
      "Collecting tbb==2021.* (from mkl<=2021.4.0,>=2021.1.1->torch)\n",
      "  Obtaining dependency information for tbb==2021.* from https://files.pythonhosted.org/packages/7b/2d/1e1c70fae8ace27e6200fb71c2372a9aeac2baba474b1609d7d466e969b4/tbb-2021.12.0-py3-none-win_amd64.whl.metadata\n",
      "  Using cached tbb-2021.12.0-py3-none-win_amd64.whl.metadata (1.1 kB)\n",
      "Collecting MarkupSafe>=2.0 (from jinja2->torch)\n",
      "  Obtaining dependency information for MarkupSafe>=2.0 from https://files.pythonhosted.org/packages/b7/a2/c78a06a9ec6d04b3445a949615c4c7ed86a0b2eb68e44e7541b9d57067cc/MarkupSafe-2.1.5-cp311-cp311-win_amd64.whl.metadata\n",
      "  Using cached MarkupSafe-2.1.5-cp311-cp311-win_amd64.whl.metadata (3.1 kB)\n",
      "Collecting mpmath>=0.19 (from sympy->torch)\n",
      "  Obtaining dependency information for mpmath>=0.19 from https://files.pythonhosted.org/packages/43/e3/7d92a15f894aa0c9c4b49b8ee9ac9850d6e63b03c9c32c0367a13ae62209/mpmath-1.3.0-py3-none-any.whl.metadata\n",
      "  Using cached mpmath-1.3.0-py3-none-any.whl.metadata (8.6 kB)\n",
      "Using cached torch-2.3.0-cp311-cp311-win_amd64.whl (159.8 MB)\n",
      "Using cached mkl-2021.4.0-py2.py3-none-win_amd64.whl (228.5 MB)\n",
      "Using cached intel_openmp-2021.4.0-py2.py3-none-win_amd64.whl (3.5 MB)\n",
      "Using cached tbb-2021.12.0-py3-none-win_amd64.whl (286 kB)\n",
      "Using cached typing_extensions-4.11.0-py3-none-any.whl (34 kB)\n",
      "Using cached filelock-3.14.0-py3-none-any.whl (12 kB)\n",
      "Using cached fsspec-2024.3.1-py3-none-any.whl (171 kB)\n",
      "Using cached Jinja2-3.1.3-py3-none-any.whl (133 kB)\n",
      "Using cached networkx-3.3-py3-none-any.whl (1.7 MB)\n",
      "Using cached sympy-1.12-py3-none-any.whl (5.7 MB)\n",
      "Using cached MarkupSafe-2.1.5-cp311-cp311-win_amd64.whl (17 kB)\n",
      "Using cached mpmath-1.3.0-py3-none-any.whl (536 kB)\n",
      "Installing collected packages: tbb, mpmath, intel-openmp, typing-extensions, sympy, networkx, mkl, MarkupSafe, fsspec, filelock, jinja2, torch\n",
      "Successfully installed MarkupSafe-2.1.1 filelock-3.14.0 fsspec-2023.4.0 intel-openmp-2021.4.0 jinja2-3.1.2 mkl-2021.4.0 mpmath-1.3.0 networkx-3.1 sympy-1.11.1 tbb-0.2 torch-2.3.0 typing-extensions-4.11.0\n"
     ]
    }
   ],
   "source": [
    "pip install --ignore-installed torch"
   ]
  },
  {
   "cell_type": "code",
   "execution_count": 23,
   "id": "9b5440a8",
   "metadata": {},
   "outputs": [],
   "source": [
    "import numpy as np\n",
    "import pandas as pd\n",
    "\n",
    "import torch\n",
    "import torch.nn as nn\n",
    "import torch.optim as optim"
   ]
  },
  {
   "cell_type": "code",
   "execution_count": 24,
   "id": "af68f45d",
   "metadata": {},
   "outputs": [
    {
     "data": {
      "text/html": [
       "<div>\n",
       "<style scoped>\n",
       "    .dataframe tbody tr th:only-of-type {\n",
       "        vertical-align: middle;\n",
       "    }\n",
       "\n",
       "    .dataframe tbody tr th {\n",
       "        vertical-align: top;\n",
       "    }\n",
       "\n",
       "    .dataframe thead th {\n",
       "        text-align: right;\n",
       "    }\n",
       "</style>\n",
       "<table border=\"1\" class=\"dataframe\">\n",
       "  <thead>\n",
       "    <tr style=\"text-align: right;\">\n",
       "      <th></th>\n",
       "      <th>brand_name</th>\n",
       "      <th>model</th>\n",
       "      <th>price</th>\n",
       "      <th>rating</th>\n",
       "      <th>has_5g</th>\n",
       "      <th>has_nfc</th>\n",
       "      <th>has_ir_blaster</th>\n",
       "      <th>processor_name</th>\n",
       "      <th>processor_brand</th>\n",
       "      <th>num_cores</th>\n",
       "      <th>...</th>\n",
       "      <th>ram_capacity</th>\n",
       "      <th>internal_memory</th>\n",
       "      <th>refresh_rate</th>\n",
       "      <th>resolution</th>\n",
       "      <th>num_rear_cameras</th>\n",
       "      <th>num_front_cameras</th>\n",
       "      <th>os</th>\n",
       "      <th>primary_camera_rear</th>\n",
       "      <th>primary_camera_front</th>\n",
       "      <th>extended_memory</th>\n",
       "    </tr>\n",
       "  </thead>\n",
       "  <tbody>\n",
       "    <tr>\n",
       "      <th>0</th>\n",
       "      <td>oneplus</td>\n",
       "      <td>OnePlus 11 5G</td>\n",
       "      <td>54999</td>\n",
       "      <td>89.0</td>\n",
       "      <td>True</td>\n",
       "      <td>True</td>\n",
       "      <td>False</td>\n",
       "      <td>Snapdragon 8 Gen2</td>\n",
       "      <td>snapdragon</td>\n",
       "      <td>Octa Core</td>\n",
       "      <td>...</td>\n",
       "      <td>12.0</td>\n",
       "      <td>256.0</td>\n",
       "      <td>120</td>\n",
       "      <td>1440 x 3216</td>\n",
       "      <td>3</td>\n",
       "      <td>1</td>\n",
       "      <td>android</td>\n",
       "      <td>50</td>\n",
       "      <td>16</td>\n",
       "      <td>0</td>\n",
       "    </tr>\n",
       "    <tr>\n",
       "      <th>1</th>\n",
       "      <td>oneplus</td>\n",
       "      <td>OnePlus Nord CE 2 Lite 5G</td>\n",
       "      <td>19989</td>\n",
       "      <td>81.0</td>\n",
       "      <td>True</td>\n",
       "      <td>False</td>\n",
       "      <td>False</td>\n",
       "      <td>Snapdragon 695</td>\n",
       "      <td>snapdragon</td>\n",
       "      <td>Octa Core</td>\n",
       "      <td>...</td>\n",
       "      <td>6.0</td>\n",
       "      <td>128.0</td>\n",
       "      <td>120</td>\n",
       "      <td>1080 x 2412</td>\n",
       "      <td>3</td>\n",
       "      <td>1</td>\n",
       "      <td>android</td>\n",
       "      <td>64</td>\n",
       "      <td>16</td>\n",
       "      <td>1 TB</td>\n",
       "    </tr>\n",
       "    <tr>\n",
       "      <th>2</th>\n",
       "      <td>samsung</td>\n",
       "      <td>Samsung Galaxy A14 5G</td>\n",
       "      <td>16499</td>\n",
       "      <td>75.0</td>\n",
       "      <td>True</td>\n",
       "      <td>False</td>\n",
       "      <td>False</td>\n",
       "      <td>Exynos 1330</td>\n",
       "      <td>exynos</td>\n",
       "      <td>Octa Core</td>\n",
       "      <td>...</td>\n",
       "      <td>4.0</td>\n",
       "      <td>64.0</td>\n",
       "      <td>90</td>\n",
       "      <td>1080 x 2408</td>\n",
       "      <td>3</td>\n",
       "      <td>1</td>\n",
       "      <td>android</td>\n",
       "      <td>50</td>\n",
       "      <td>13</td>\n",
       "      <td>1 TB</td>\n",
       "    </tr>\n",
       "    <tr>\n",
       "      <th>3</th>\n",
       "      <td>motorola</td>\n",
       "      <td>Motorola Moto G62 5G</td>\n",
       "      <td>14999</td>\n",
       "      <td>81.0</td>\n",
       "      <td>True</td>\n",
       "      <td>False</td>\n",
       "      <td>False</td>\n",
       "      <td>Snapdragon  695</td>\n",
       "      <td>snapdragon</td>\n",
       "      <td>Octa Core</td>\n",
       "      <td>...</td>\n",
       "      <td>6.0</td>\n",
       "      <td>128.0</td>\n",
       "      <td>120</td>\n",
       "      <td>1080 x 2400</td>\n",
       "      <td>3</td>\n",
       "      <td>1</td>\n",
       "      <td>android</td>\n",
       "      <td>50</td>\n",
       "      <td>16</td>\n",
       "      <td>1 TB</td>\n",
       "    </tr>\n",
       "    <tr>\n",
       "      <th>4</th>\n",
       "      <td>realme</td>\n",
       "      <td>Realme 10 Pro Plus</td>\n",
       "      <td>24999</td>\n",
       "      <td>82.0</td>\n",
       "      <td>True</td>\n",
       "      <td>False</td>\n",
       "      <td>False</td>\n",
       "      <td>Dimensity 1080</td>\n",
       "      <td>dimensity</td>\n",
       "      <td>Octa Core</td>\n",
       "      <td>...</td>\n",
       "      <td>6.0</td>\n",
       "      <td>128.0</td>\n",
       "      <td>120</td>\n",
       "      <td>1080 x 2412</td>\n",
       "      <td>3</td>\n",
       "      <td>1</td>\n",
       "      <td>android</td>\n",
       "      <td>108</td>\n",
       "      <td>16</td>\n",
       "      <td>0</td>\n",
       "    </tr>\n",
       "  </tbody>\n",
       "</table>\n",
       "<p>5 rows × 23 columns</p>\n",
       "</div>"
      ],
      "text/plain": [
       "  brand_name                      model  price  rating  has_5g  has_nfc  \\\n",
       "0    oneplus              OnePlus 11 5G  54999    89.0    True     True   \n",
       "1    oneplus  OnePlus Nord CE 2 Lite 5G  19989    81.0    True    False   \n",
       "2    samsung      Samsung Galaxy A14 5G  16499    75.0    True    False   \n",
       "3   motorola       Motorola Moto G62 5G  14999    81.0    True    False   \n",
       "4     realme         Realme 10 Pro Plus  24999    82.0    True    False   \n",
       "\n",
       "   has_ir_blaster     processor_name processor_brand  num_cores  ...  \\\n",
       "0           False  Snapdragon 8 Gen2      snapdragon  Octa Core  ...   \n",
       "1           False     Snapdragon 695      snapdragon  Octa Core  ...   \n",
       "2           False        Exynos 1330          exynos  Octa Core  ...   \n",
       "3           False    Snapdragon  695      snapdragon  Octa Core  ...   \n",
       "4           False     Dimensity 1080       dimensity  Octa Core  ...   \n",
       "\n",
       "   ram_capacity  internal_memory  refresh_rate    resolution  \\\n",
       "0          12.0            256.0           120  1440 x 3216    \n",
       "1           6.0            128.0           120  1080 x 2412    \n",
       "2           4.0             64.0            90  1080 x 2408    \n",
       "3           6.0            128.0           120  1080 x 2400    \n",
       "4           6.0            128.0           120  1080 x 2412    \n",
       "\n",
       "   num_rear_cameras  num_front_cameras       os  primary_camera_rear  \\\n",
       "0                 3                  1  android                   50   \n",
       "1                 3                  1  android                   64   \n",
       "2                 3                  1  android                   50   \n",
       "3                 3                  1  android                   50   \n",
       "4                 3                  1  android                  108   \n",
       "\n",
       "  primary_camera_front extended_memory  \n",
       "0                   16               0  \n",
       "1                   16            1 TB  \n",
       "2                   13            1 TB  \n",
       "3                   16            1 TB  \n",
       "4                   16               0  \n",
       "\n",
       "[5 rows x 23 columns]"
      ]
     },
     "execution_count": 24,
     "metadata": {},
     "output_type": "execute_result"
    }
   ],
   "source": [
    "df = pd.read_csv(\"smartphone_cleaned_v2.csv\")\n",
    "df.dropna(inplace=True)\n",
    "df.head()"
   ]
  },
  {
   "cell_type": "code",
   "execution_count": 25,
   "id": "e718c78c",
   "metadata": {},
   "outputs": [],
   "source": [
    "numerical_features = ['rating', 'ram_capacity', 'internal_memory', 'refresh_rate', 'num_rear_cameras', 'processor_speed', 'battery_capacity', 'fast_charging']\n",
    "\n",
    "# create tensor of input features\n",
    "X = torch.tensor(df[numerical_features].values, dtype=torch.float)\n",
    "# create tensor of targets\n",
    "y = torch.tensor(df['price'].values, dtype=torch.float).view(-1,1)"
   ]
  },
  {
   "cell_type": "code",
   "execution_count": 26,
   "id": "5ceb5f6f",
   "metadata": {},
   "outputs": [],
   "source": [
    "from sklearn.model_selection import train_test_split\n",
    "X_train, X_test, y_train, y_test = train_test_split(X, y,\n",
    "    train_size=0.70,\n",
    "    test_size=0.30,\n",
    "    random_state=2) "
   ]
  },
  {
   "cell_type": "code",
   "execution_count": 27,
   "id": "5da06fa4",
   "metadata": {},
   "outputs": [],
   "source": [
    "torch.manual_seed(42)\n",
    "input_size = 8  \n",
    "\n",
    "model = nn.Sequential(\n",
    "    nn.Linear(input_size, 686),  \n",
    "    nn.ReLU(),                \n",
    "    nn.Linear(686, 1372),        \n",
    "    nn.ReLU(),                             \n",
    "    nn.Linear(1372, 1) \n",
    ")\n",
    "\n",
    "loss = nn.MSELoss()\n",
    "optimizer = optim.Adam(model.parameters(), lr=0.001)\n",
    "predictions = model(X_train) "
   ]
  },
  {
   "cell_type": "code",
   "execution_count": 28,
   "id": "f9cb9aee",
   "metadata": {},
   "outputs": [
    {
     "name": "stdout",
     "output_type": "stream",
     "text": [
      "Epoch [100/1000], MSE Loss: 1669504128.0\n",
      "Epoch [200/1000], MSE Loss: 1352689536.0\n",
      "Epoch [300/1000], MSE Loss: 1305296896.0\n",
      "Epoch [400/1000], MSE Loss: 1258047744.0\n",
      "Epoch [500/1000], MSE Loss: 1206009856.0\n",
      "Epoch [600/1000], MSE Loss: 1151834240.0\n",
      "Epoch [700/1000], MSE Loss: 1110650240.0\n",
      "Epoch [800/1000], MSE Loss: 1087149568.0\n",
      "Epoch [900/1000], MSE Loss: 1072970368.0\n",
      "Epoch [1000/1000], MSE Loss: 1063639808.0\n"
     ]
    }
   ],
   "source": [
    "num_epochs = 1000\n",
    "for epoch in range(num_epochs):\n",
    "    predictions = model(X_train) \n",
    "    MSE = loss(predictions, y_train) \n",
    "    MSE.backward()\n",
    "    optimizer.step() \n",
    "    optimizer.zero_grad()\n",
    "    \n",
    "    # keep track of the loss during training\n",
    "    if (epoch + 1) % 100 == 0:\n",
    "        print(f'Epoch [{epoch + 1}/{num_epochs}], MSE Loss: {MSE.item()}')"
   ]
  },
  {
   "cell_type": "code",
   "execution_count": 29,
   "id": "66fc8064",
   "metadata": {},
   "outputs": [],
   "source": [
    "torch.save(model, 'model.pth')"
   ]
  },
  {
   "cell_type": "code",
   "execution_count": 30,
   "id": "3ccec6c4",
   "metadata": {},
   "outputs": [
    {
     "name": "stdout",
     "output_type": "stream",
     "text": [
      "Test MSE is 245083680.0\n",
      "Test Root MSE is 15655.148673838905\n"
     ]
    }
   ],
   "source": [
    "loaded_model = torch.load('model.pth')\n",
    "loaded_model.eval()\n",
    "with torch.no_grad():\n",
    "    predictions = loaded_model(X_test)\n",
    "    test_MSE = loss(predictions, y_test)\n",
    "\n",
    "# show output\n",
    "print('Test MSE is ' + str(test_MSE.item()))\n",
    "print('Test Root MSE is ' + str(test_MSE.item()**(1/2)))"
   ]
  },
  {
   "cell_type": "code",
   "execution_count": 32,
   "id": "b2d7f559",
   "metadata": {
    "scrolled": true
   },
   "outputs": [
    {
     "name": "stdout",
     "output_type": "stream",
     "text": [
      "y_test shape: torch.Size([238, 1])\n",
      "predictions shape: torch.Size([238, 1])\n"
     ]
    }
   ],
   "source": [
    "print(\"y_test shape:\", y_test.shape)\n",
    "print(\"predictions shape:\", predictions.shape)"
   ]
  },
  {
   "cell_type": "code",
   "execution_count": 35,
   "id": "612a2f31",
   "metadata": {},
   "outputs": [],
   "source": [
    "y_test_np = y_test.numpy()\n",
    "predictions_np = predictions.detach().numpy()"
   ]
  },
  {
   "cell_type": "code",
   "execution_count": 38,
   "id": "743088ab",
   "metadata": {},
   "outputs": [
    {
     "data": {
      "image/png": "[encoded data removed]",
      "text/plain": [
       "<Figure size 1000x600 with 1 Axes>"
      ]
     },
     "metadata": {},
     "output_type": "display_data"
    }
   ],
   "source": [
    "import matplotlib.pyplot as plt\n",
    "%matplotlib inline\n",
    "\n",
    "plt.figure(figsize=(10, 6))\n",
    "plt.scatter(y_test_np, predictions_np, label='Predictions', alpha=0.5, color='blue')\n",
    "\n",
    "plt.xlabel('Actual Values (y_test)')\n",
    "plt.ylabel('Predicted Values')\n",
    "\n",
    "plt.plot([min(y_test_np), max(y_test_np)], [min(y_test_np), max(y_test_np)], linestyle='--', color='gray', linewidth=2,\n",
    "         label=\"Actual Price\")\n",
    "plt.legend()\n",
    "plt.title('Smartphone Price Predictions vs Actual Values')\n",
    "plt.show()"
   ]
  },
  {
   "cell_type": "code",
   "execution_count": null,
   "id": "5f4ca541",
   "metadata": {},
   "outputs": [],
   "source": []
  }
 ],
 "metadata": {
  "kernelspec": {
   "display_name": "Python 3 (ipykernel)",
   "language": "python",
   "name": "python3"
  },
  "language_info": {
   "codemirror_mode": {
    "name": "ipython",
    "version": 3
   },
   "file_extension": ".py",
   "mimetype": "text/x-python",
   "name": "python",
   "nbconvert_exporter": "python",
   "pygments_lexer": "ipython3",
   "version": "3.11.5"
  }
 },
 "nbformat": 4,
 "nbformat_minor": 5
}
